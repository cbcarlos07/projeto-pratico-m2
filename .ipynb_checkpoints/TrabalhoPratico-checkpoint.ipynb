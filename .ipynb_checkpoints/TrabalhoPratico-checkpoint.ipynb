{
 "cells": [
  {
   "cell_type": "code",
   "execution_count": 1,
   "id": "8c096d4e",
   "metadata": {},
   "outputs": [
    {
     "name": "stdout",
     "output_type": "stream",
     "text": [
      "Collecting mysqlclient\n",
      "  Using cached mysqlclient-2.1.0-cp39-cp39-win_amd64.whl (180 kB)\n",
      "Installing collected packages: mysqlclient\n",
      "Successfully installed mysqlclient-2.1.0\n"
     ]
    }
   ],
   "source": [
    "!pip install mysqlclient"
   ]
  },
  {
   "cell_type": "code",
   "execution_count": 2,
   "id": "d06148dd",
   "metadata": {},
   "outputs": [
    {
     "name": "stdout",
     "output_type": "stream",
     "text": [
      "Requirement already satisfied: sqlalchemy in c:\\anaconda3\\lib\\site-packages (1.4.22)\n",
      "Requirement already satisfied: greenlet!=0.4.17 in c:\\anaconda3\\lib\\site-packages (from sqlalchemy) (1.1.1)\n"
     ]
    }
   ],
   "source": [
    "!pip install sqlalchemy"
   ]
  },
  {
   "cell_type": "code",
   "execution_count": 9,
   "id": "4c39698c",
   "metadata": {},
   "outputs": [
    {
     "name": "stdout",
     "output_type": "stream",
     "text": [
      "Collecting flask_sqlalchemy\n",
      "  Downloading Flask_SQLAlchemy-2.5.1-py2.py3-none-any.whl (17 kB)\n",
      "Requirement already satisfied: SQLAlchemy>=0.8.0 in c:\\users\\brito\\documents\\igti\\bootcamp - engenharia de dados\\modulo2\\projetos\\env\\trabalho_pratico\\lib\\site-packages (from flask_sqlalchemy) (1.4.31)\n",
      "Collecting Flask>=0.10\n",
      "  Downloading Flask-2.0.3-py3-none-any.whl (95 kB)\n",
      "Requirement already satisfied: greenlet!=0.4.17; python_version >= \"3\" and (platform_machine == \"aarch64\" or (platform_machine == \"ppc64le\" or (platform_machine == \"x86_64\" or (platform_machine == \"amd64\" or (platform_machine == \"AMD64\" or (platform_machine == \"win32\" or platform_machine == \"WIN32\")))))) in c:\\users\\brito\\documents\\igti\\bootcamp - engenharia de dados\\modulo2\\projetos\\env\\trabalho_pratico\\lib\\site-packages (from SQLAlchemy>=0.8.0->flask_sqlalchemy) (1.1.2)\n",
      "Collecting itsdangerous>=2.0\n",
      "  Downloading itsdangerous-2.0.1-py3-none-any.whl (18 kB)\n",
      "Requirement already satisfied: Jinja2>=3.0 in c:\\users\\brito\\documents\\igti\\bootcamp - engenharia de dados\\modulo2\\projetos\\env\\trabalho_pratico\\lib\\site-packages (from Flask>=0.10->flask_sqlalchemy) (3.0.3)\n",
      "Requirement already satisfied: click>=7.1.2 in c:\\users\\brito\\documents\\igti\\bootcamp - engenharia de dados\\modulo2\\projetos\\env\\trabalho_pratico\\lib\\site-packages (from Flask>=0.10->flask_sqlalchemy) (8.0.3)\n",
      "Collecting Werkzeug>=2.0\n",
      "  Downloading Werkzeug-2.0.3-py3-none-any.whl (289 kB)\n",
      "Requirement already satisfied: MarkupSafe>=2.0 in c:\\users\\brito\\documents\\igti\\bootcamp - engenharia de dados\\modulo2\\projetos\\env\\trabalho_pratico\\lib\\site-packages (from Jinja2>=3.0->Flask>=0.10->flask_sqlalchemy) (2.0.1)\n",
      "Requirement already satisfied: colorama; platform_system == \"Windows\" in c:\\users\\brito\\documents\\igti\\bootcamp - engenharia de dados\\modulo2\\projetos\\env\\trabalho_pratico\\lib\\site-packages (from click>=7.1.2->Flask>=0.10->flask_sqlalchemy) (0.4.4)\n",
      "Installing collected packages: itsdangerous, Werkzeug, Flask, flask-sqlalchemy\n",
      "Successfully installed Flask-2.0.3 Werkzeug-2.0.3 flask-sqlalchemy-2.5.1 itsdangerous-2.0.1\n"
     ]
    },
    {
     "name": "stderr",
     "output_type": "stream",
     "text": [
      "WARNING: You are using pip version 20.2.3; however, version 22.0.3 is available.\n",
      "You should consider upgrading via the 'c:\\users\\brito\\documents\\igti\\bootcamp - engenharia de dados\\modulo2\\projetos\\env\\trabalho_pratico\\scripts\\python.exe -m pip install --upgrade pip' command.\n"
     ]
    }
   ],
   "source": [
    "!pip install flask_sqlalchemy"
   ]
  },
  {
   "cell_type": "code",
   "execution_count": 27,
   "id": "4192cefb",
   "metadata": {},
   "outputs": [
    {
     "name": "stdout",
     "output_type": "stream",
     "text": [
      "Collecting pymysql\n",
      "  Downloading PyMySQL-1.0.2-py3-none-any.whl (43 kB)\n",
      "Installing collected packages: pymysql\n",
      "Successfully installed pymysql-1.0.2\n"
     ]
    },
    {
     "name": "stderr",
     "output_type": "stream",
     "text": [
      "WARNING: You are using pip version 20.2.3; however, version 22.0.3 is available.\n",
      "You should consider upgrading via the 'c:\\users\\brito\\documents\\igti\\bootcamp - engenharia de dados\\modulo2\\projetos\\env\\trabalho_pratico\\scripts\\python.exe -m pip install --upgrade pip' command.\n"
     ]
    }
   ],
   "source": [
    "!pip install pymysql"
   ]
  },
  {
   "cell_type": "code",
   "execution_count": 2,
   "id": "09399fd3",
   "metadata": {},
   "outputs": [],
   "source": [
    "import pandas as pd\n",
    "import os\n",
    "import pymysql.cursors\n",
    "# from flask_sqlalchemy import SQLAlchemy"
   ]
  },
  {
   "cell_type": "code",
   "execution_count": 3,
   "id": "307dfe56",
   "metadata": {},
   "outputs": [],
   "source": [
    "# https://pypi.org/project/PyMySQL/\n",
    "conn  = pymysql.connect(host='localhost',\n",
    "                             user='root',\n",
    "                             password='123',\n",
    "                             database='trabalho_pratico',\n",
    "                             cursorclass=pymysql.cursors.DictCursor)\n",
    "def inserir(sql, value):\n",
    "    connection  = pymysql.connect(host='localhost',\n",
    "                             user='root',\n",
    "                             password='123',\n",
    "                             database='trabalho_pratico',\n",
    "                             cursorclass=pymysql.cursors.DictCursor)\n",
    "    with connection:\n",
    "        with connection.cursor() as cursor:\n",
    "            # Create a new record\n",
    "            #sql = \"INSERT INTO `bebida` (`bebida`) VALUES (%s)\"\n",
    "            #cursor.execute(sql, ('teste'))\n",
    "            cursor.executemany(sql, value)\n",
    "\n",
    "        # connection is not autocommit by default. So you must commit to save\n",
    "        # your changes.\n",
    "        connection.commit()"
   ]
  },
  {
   "cell_type": "code",
   "execution_count": 24,
   "id": "ba8dfa8c",
   "metadata": {},
   "outputs": [
    {
     "data": {
      "text/html": [
       "<div>\n",
       "<style scoped>\n",
       "    .dataframe tbody tr th:only-of-type {\n",
       "        vertical-align: middle;\n",
       "    }\n",
       "\n",
       "    .dataframe tbody tr th {\n",
       "        vertical-align: top;\n",
       "    }\n",
       "\n",
       "    .dataframe thead th {\n",
       "        text-align: right;\n",
       "    }\n",
       "</style>\n",
       "<table border=\"1\" class=\"dataframe\">\n",
       "  <thead>\n",
       "    <tr style=\"text-align: right;\">\n",
       "      <th></th>\n",
       "      <th>cod_pessoa</th>\n",
       "      <th>data_coleta</th>\n",
       "      <th>genero</th>\n",
       "      <th>data_nascimento</th>\n",
       "      <th>animal_estimacao</th>\n",
       "      <th>clima</th>\n",
       "      <th>bebida_favorita</th>\n",
       "      <th>hobbies</th>\n",
       "    </tr>\n",
       "  </thead>\n",
       "  <tbody>\n",
       "    <tr>\n",
       "      <th>0</th>\n",
       "      <td>10141743</td>\n",
       "      <td>2020-01-01</td>\n",
       "      <td>Masculino</td>\n",
       "      <td>1981-04-25</td>\n",
       "      <td>peixe</td>\n",
       "      <td>frio</td>\n",
       "      <td>Cerveja</td>\n",
       "      <td>Praticar esporte</td>\n",
       "    </tr>\n",
       "    <tr>\n",
       "      <th>1</th>\n",
       "      <td>10141860</td>\n",
       "      <td>2020-01-01</td>\n",
       "      <td>Feminino</td>\n",
       "      <td>1966-01-19</td>\n",
       "      <td>peixe</td>\n",
       "      <td>quente</td>\n",
       "      <td>Café</td>\n",
       "      <td>Assistir TV</td>\n",
       "    </tr>\n",
       "    <tr>\n",
       "      <th>2</th>\n",
       "      <td>10142548</td>\n",
       "      <td>2020-01-01</td>\n",
       "      <td>Masculino</td>\n",
       "      <td>1973-08-02</td>\n",
       "      <td>tartaruga</td>\n",
       "      <td>frio</td>\n",
       "      <td>Café</td>\n",
       "      <td>Ler livros</td>\n",
       "    </tr>\n",
       "    <tr>\n",
       "      <th>3</th>\n",
       "      <td>10142591</td>\n",
       "      <td>2020-01-01</td>\n",
       "      <td>Masculino</td>\n",
       "      <td>1997-03-05</td>\n",
       "      <td>gato</td>\n",
       "      <td>moderado</td>\n",
       "      <td>Cerveja</td>\n",
       "      <td>Aprender algo novo</td>\n",
       "    </tr>\n",
       "    <tr>\n",
       "      <th>4</th>\n",
       "      <td>10142654</td>\n",
       "      <td>2020-01-01</td>\n",
       "      <td>Feminino</td>\n",
       "      <td>1969-08-05</td>\n",
       "      <td>tartaruga</td>\n",
       "      <td>moderado</td>\n",
       "      <td>Café</td>\n",
       "      <td>Assistir TV</td>\n",
       "    </tr>\n",
       "    <tr>\n",
       "      <th>...</th>\n",
       "      <td>...</td>\n",
       "      <td>...</td>\n",
       "      <td>...</td>\n",
       "      <td>...</td>\n",
       "      <td>...</td>\n",
       "      <td>...</td>\n",
       "      <td>...</td>\n",
       "      <td>...</td>\n",
       "    </tr>\n",
       "    <tr>\n",
       "      <th>2122</th>\n",
       "      <td>10142475</td>\n",
       "      <td>2020-12-31</td>\n",
       "      <td>Masculino</td>\n",
       "      <td>1955-05-30</td>\n",
       "      <td>peixe</td>\n",
       "      <td>quente</td>\n",
       "      <td>Café</td>\n",
       "      <td>Praticar esporte</td>\n",
       "    </tr>\n",
       "    <tr>\n",
       "      <th>2123</th>\n",
       "      <td>10142522</td>\n",
       "      <td>2020-12-31</td>\n",
       "      <td>Masculino</td>\n",
       "      <td>1954-12-22</td>\n",
       "      <td>peixe</td>\n",
       "      <td>moderado</td>\n",
       "      <td>Cerveja</td>\n",
       "      <td>Praticar esporte</td>\n",
       "    </tr>\n",
       "    <tr>\n",
       "      <th>2124</th>\n",
       "      <td>10142881</td>\n",
       "      <td>2020-12-31</td>\n",
       "      <td>Masculino</td>\n",
       "      <td>1952-07-30</td>\n",
       "      <td>gato</td>\n",
       "      <td>frio</td>\n",
       "      <td>refrigerante</td>\n",
       "      <td>Assistir TV</td>\n",
       "    </tr>\n",
       "    <tr>\n",
       "      <th>2125</th>\n",
       "      <td>10143184</td>\n",
       "      <td>2020-12-31</td>\n",
       "      <td>Masculino</td>\n",
       "      <td>1984-06-05</td>\n",
       "      <td>tartaruga</td>\n",
       "      <td>quente</td>\n",
       "      <td>refrigerante</td>\n",
       "      <td>Pintar quadros</td>\n",
       "    </tr>\n",
       "    <tr>\n",
       "      <th>2126</th>\n",
       "      <td>10143307</td>\n",
       "      <td>2020-12-31</td>\n",
       "      <td>Masculino</td>\n",
       "      <td>1971-08-29</td>\n",
       "      <td>tartaruga</td>\n",
       "      <td>moderado</td>\n",
       "      <td>refrigerante</td>\n",
       "      <td>Pintar quadros</td>\n",
       "    </tr>\n",
       "  </tbody>\n",
       "</table>\n",
       "<p>2127 rows × 8 columns</p>\n",
       "</div>"
      ],
      "text/plain": [
       "      cod_pessoa data_coleta     genero data_nascimento animal_estimacao  \\\n",
       "0       10141743  2020-01-01  Masculino      1981-04-25            peixe   \n",
       "1       10141860  2020-01-01   Feminino      1966-01-19            peixe   \n",
       "2       10142548  2020-01-01  Masculino      1973-08-02        tartaruga   \n",
       "3       10142591  2020-01-01  Masculino      1997-03-05             gato   \n",
       "4       10142654  2020-01-01   Feminino      1969-08-05        tartaruga   \n",
       "...          ...         ...        ...             ...              ...   \n",
       "2122    10142475  2020-12-31  Masculino      1955-05-30            peixe   \n",
       "2123    10142522  2020-12-31  Masculino      1954-12-22            peixe   \n",
       "2124    10142881  2020-12-31  Masculino      1952-07-30             gato   \n",
       "2125    10143184  2020-12-31  Masculino      1984-06-05        tartaruga   \n",
       "2126    10143307  2020-12-31  Masculino      1971-08-29        tartaruga   \n",
       "\n",
       "         clima bebida_favorita             hobbies  \n",
       "0         frio         Cerveja    Praticar esporte  \n",
       "1       quente            Café         Assistir TV  \n",
       "2         frio            Café          Ler livros  \n",
       "3     moderado         Cerveja  Aprender algo novo  \n",
       "4     moderado            Café         Assistir TV  \n",
       "...        ...             ...                 ...  \n",
       "2122    quente            Café    Praticar esporte  \n",
       "2123  moderado         Cerveja    Praticar esporte  \n",
       "2124      frio    refrigerante         Assistir TV  \n",
       "2125    quente    refrigerante      Pintar quadros  \n",
       "2126  moderado    refrigerante      Pintar quadros  \n",
       "\n",
       "[2127 rows x 8 columns]"
      ]
     },
     "execution_count": 24,
     "metadata": {},
     "output_type": "execute_result"
    }
   ],
   "source": [
    "dataframe = pd.read_csv( 'unico_arquivo.csv', sep = ';', encoding='latin-1' )\n",
    "dataframe"
   ]
  },
  {
   "cell_type": "code",
   "execution_count": 5,
   "id": "87d386c2",
   "metadata": {},
   "outputs": [],
   "source": [
    "df_pessoas = dataframe[['cod_pessoa','genero','data_nascimento']].drop_duplicates()\n",
    "df_animal = list(dataframe.animal_estimacao.unique())\n",
    "df_bebida = list(dataframe.bebida_favorita.unique())\n",
    "df_clima = list(dataframe.clima.unique())\n",
    "df_hobbie = list(dataframe.hobbies.unique())\n",
    "\n"
   ]
  },
  {
   "cell_type": "code",
   "execution_count": 6,
   "id": "7b8ac3de",
   "metadata": {},
   "outputs": [
    {
     "data": {
      "text/html": [
       "<div>\n",
       "<style scoped>\n",
       "    .dataframe tbody tr th:only-of-type {\n",
       "        vertical-align: middle;\n",
       "    }\n",
       "\n",
       "    .dataframe tbody tr th {\n",
       "        vertical-align: top;\n",
       "    }\n",
       "\n",
       "    .dataframe thead th {\n",
       "        text-align: right;\n",
       "    }\n",
       "</style>\n",
       "<table border=\"1\" class=\"dataframe\">\n",
       "  <thead>\n",
       "    <tr style=\"text-align: right;\">\n",
       "      <th></th>\n",
       "      <th>cod_pessoa</th>\n",
       "      <th>genero</th>\n",
       "      <th>data_nascimento</th>\n",
       "    </tr>\n",
       "  </thead>\n",
       "  <tbody>\n",
       "    <tr>\n",
       "      <th>0</th>\n",
       "      <td>10141743</td>\n",
       "      <td>Masculino</td>\n",
       "      <td>1981-04-25</td>\n",
       "    </tr>\n",
       "    <tr>\n",
       "      <th>1</th>\n",
       "      <td>10141860</td>\n",
       "      <td>Feminino</td>\n",
       "      <td>1966-01-19</td>\n",
       "    </tr>\n",
       "    <tr>\n",
       "      <th>2</th>\n",
       "      <td>10142548</td>\n",
       "      <td>Masculino</td>\n",
       "      <td>1973-08-02</td>\n",
       "    </tr>\n",
       "    <tr>\n",
       "      <th>3</th>\n",
       "      <td>10142591</td>\n",
       "      <td>Masculino</td>\n",
       "      <td>1997-03-05</td>\n",
       "    </tr>\n",
       "    <tr>\n",
       "      <th>4</th>\n",
       "      <td>10142654</td>\n",
       "      <td>Feminino</td>\n",
       "      <td>1969-08-05</td>\n",
       "    </tr>\n",
       "    <tr>\n",
       "      <th>5</th>\n",
       "      <td>10141523</td>\n",
       "      <td>Feminino</td>\n",
       "      <td>1998-09-24</td>\n",
       "    </tr>\n",
       "    <tr>\n",
       "      <th>6</th>\n",
       "      <td>10141996</td>\n",
       "      <td>Feminino</td>\n",
       "      <td>1973-03-13</td>\n",
       "    </tr>\n",
       "    <tr>\n",
       "      <th>7</th>\n",
       "      <td>10142089</td>\n",
       "      <td>Feminino</td>\n",
       "      <td>1970-03-23</td>\n",
       "    </tr>\n",
       "    <tr>\n",
       "      <th>8</th>\n",
       "      <td>10142145</td>\n",
       "      <td>Masculino</td>\n",
       "      <td>1998-08-01</td>\n",
       "    </tr>\n",
       "    <tr>\n",
       "      <th>9</th>\n",
       "      <td>10142520</td>\n",
       "      <td>Masculino</td>\n",
       "      <td>1994-05-09</td>\n",
       "    </tr>\n",
       "  </tbody>\n",
       "</table>\n",
       "</div>"
      ],
      "text/plain": [
       "   cod_pessoa     genero data_nascimento\n",
       "0    10141743  Masculino      1981-04-25\n",
       "1    10141860   Feminino      1966-01-19\n",
       "2    10142548  Masculino      1973-08-02\n",
       "3    10142591  Masculino      1997-03-05\n",
       "4    10142654   Feminino      1969-08-05\n",
       "5    10141523   Feminino      1998-09-24\n",
       "6    10141996   Feminino      1973-03-13\n",
       "7    10142089   Feminino      1970-03-23\n",
       "8    10142145  Masculino      1998-08-01\n",
       "9    10142520  Masculino      1994-05-09"
      ]
     },
     "execution_count": 6,
     "metadata": {},
     "output_type": "execute_result"
    }
   ],
   "source": [
    "df_pessoas[:10]"
   ]
  },
  {
   "cell_type": "code",
   "execution_count": 7,
   "id": "3669495c",
   "metadata": {},
   "outputs": [
    {
     "data": {
      "text/plain": [
       "['peixe', 'tartaruga', 'gato', 'cachorro']"
      ]
     },
     "execution_count": 7,
     "metadata": {},
     "output_type": "execute_result"
    }
   ],
   "source": [
    "df_animal[:10]"
   ]
  },
  {
   "cell_type": "code",
   "execution_count": 11,
   "id": "8ce1f59a",
   "metadata": {},
   "outputs": [
    {
     "name": "stdout",
     "output_type": "stream",
     "text": [
      "Registro inserido com sucesso: \n"
     ]
    }
   ],
   "source": [
    "query = f\"\"\"INSERT INTO pessoa VALUES (%s,%s,%s)\"\"\"\n",
    "pessoas = []\n",
    "for pessoa in df_pessoas.itertuples():\n",
    "    cod_pessoa = pessoa.cod_pessoa\n",
    "    genero = pessoa.genero\n",
    "    data_nascimento = pessoa.data_nascimento\n",
    "    pessoas.append([cod_pessoa, genero, data_nascimento])\n",
    "\n",
    "\n",
    "try:\n",
    "    inserir(query,pessoas)\n",
    "    print(f\"Registro inserido com sucesso: \")\n",
    "except Exception as e:\n",
    "        print(f\"Não foi possível inserir o registro . O erro encontrado foi: {e}\")  "
   ]
  },
  {
   "cell_type": "code",
   "execution_count": 12,
   "id": "7a41d207",
   "metadata": {},
   "outputs": [
    {
     "data": {
      "text/plain": [
       "['Praticar esporte',\n",
       " 'Assistir TV',\n",
       " 'Ler livros',\n",
       " 'Aprender algo novo',\n",
       " 'Escrever',\n",
       " 'Pintar quadros',\n",
       " 'Dormir',\n",
       " 'Escutar música']"
      ]
     },
     "execution_count": 12,
     "metadata": {},
     "output_type": "execute_result"
    }
   ],
   "source": [
    "df_hobbie"
   ]
  },
  {
   "cell_type": "code",
   "execution_count": 13,
   "id": "046089cd",
   "metadata": {},
   "outputs": [
    {
     "name": "stdout",
     "output_type": "stream",
     "text": [
      "Registro inserido com sucesso: \n"
     ]
    }
   ],
   "source": [
    "query = f\"\"\"INSERT INTO hobbie (hobbie) VALUES (%s)\"\"\"\n",
    "hobbies = []\n",
    "for hobbie in df_hobbie:\n",
    "    hobbies.append([hobbie])\n",
    "    \n",
    "hobbies\n",
    "try:\n",
    "    inserir(query,hobbies)\n",
    "    print(f\"Registro inserido com sucesso: \")\n",
    "except Exception as e:\n",
    "        print(f\"Não foi possível inserir o registro . O erro encontrado foi: {e}\") "
   ]
  },
  {
   "cell_type": "code",
   "execution_count": 14,
   "id": "23a4974c",
   "metadata": {},
   "outputs": [
    {
     "name": "stdout",
     "output_type": "stream",
     "text": [
      "Clima inserido com sucesso: \n"
     ]
    }
   ],
   "source": [
    "query = f\"\"\"INSERT INTO clima (clima) VALUES (%s)\"\"\"\n",
    "climas = []\n",
    "for clima in df_clima:\n",
    "    climas.append([clima])\n",
    "\n",
    "\n",
    "try:\n",
    "    inserir(query,climas)\n",
    "    print(f\"Clima inserido com sucesso: \")\n",
    "except Exception as e:\n",
    "        print(f\"Não foi possível inserir o registro . O erro encontrado foi: {e}\")  "
   ]
  },
  {
   "cell_type": "code",
   "execution_count": 15,
   "id": "5162c378",
   "metadata": {},
   "outputs": [
    {
     "name": "stdout",
     "output_type": "stream",
     "text": [
      "Bebida inserido com sucesso: \n"
     ]
    }
   ],
   "source": [
    "query = f\"\"\"INSERT INTO bebida (bebida) VALUES (%s)\"\"\"\n",
    "bebidas = []\n",
    "for bebida in df_bebida:\n",
    "    bebidas.append([bebida])\n",
    "\n",
    "\n",
    "try:\n",
    "    inserir(query,bebidas)\n",
    "    print(f\"Bebida inserido com sucesso: \")\n",
    "except Exception as e:\n",
    "        print(f\"Não foi possível inserir o registro . O erro encontrado foi: {e}\")  "
   ]
  },
  {
   "cell_type": "code",
   "execution_count": 16,
   "id": "9375e362",
   "metadata": {},
   "outputs": [
    {
     "name": "stdout",
     "output_type": "stream",
     "text": [
      "Animais inserido com sucesso: \n"
     ]
    }
   ],
   "source": [
    "query = f\"\"\"INSERT INTO animal_estimacao (animal) VALUES (%s)\"\"\"\n",
    "animais = []\n",
    "for animal in df_animal:\n",
    "    animais.append([animal])\n",
    "\n",
    "\n",
    "try:\n",
    "    inserir(query,animais)\n",
    "    print(f\"Animais inserido com sucesso: \")\n",
    "except Exception as e:\n",
    "        print(f\"Não foi possível inserir o registro . O erro encontrado foi: {e}\")  "
   ]
  },
  {
   "cell_type": "code",
   "execution_count": 23,
   "id": "6b0814a2",
   "metadata": {},
   "outputs": [
    {
     "ename": "NameError",
     "evalue": "name 'lista_path' is not defined",
     "output_type": "error",
     "traceback": [
      "\u001b[1;31m---------------------------------------------------------------------------\u001b[0m",
      "\u001b[1;31mNameError\u001b[0m                                 Traceback (most recent call last)",
      "Input \u001b[1;32mIn [23]\u001b[0m, in \u001b[0;36m<module>\u001b[1;34m\u001b[0m\n\u001b[0;32m      1\u001b[0m lista_df \u001b[38;5;241m=\u001b[39m []\n\u001b[1;32m----> 2\u001b[0m \u001b[38;5;28;01mfor\u001b[39;00m arquivo \u001b[38;5;129;01min\u001b[39;00m \u001b[43mlista_path\u001b[49m:\n\u001b[0;32m      3\u001b[0m     local_arquivo \u001b[38;5;241m=\u001b[39m os\u001b[38;5;241m.\u001b[39mpath\u001b[38;5;241m.\u001b[39mjoin(DIRETORIO, arquivo)\n\u001b[0;32m      4\u001b[0m     df \u001b[38;5;241m=\u001b[39m pd\u001b[38;5;241m.\u001b[39mread_csv( local_arquivo, sep \u001b[38;5;241m=\u001b[39m \u001b[38;5;124m'\u001b[39m\u001b[38;5;124m|\u001b[39m\u001b[38;5;124m'\u001b[39m, encoding\u001b[38;5;241m=\u001b[39m\u001b[38;5;124m'\u001b[39m\u001b[38;5;124mlatin-1\u001b[39m\u001b[38;5;124m'\u001b[39m )\n",
      "\u001b[1;31mNameError\u001b[0m: name 'lista_path' is not defined"
     ]
    }
   ],
   "source": [
    "lista_df = []\n",
    "for arquivo in lista_path:\n",
    "    local_arquivo = os.path.join(DIRETORIO, arquivo)\n",
    "    df = pd.read_csv( local_arquivo, sep = '|', encoding='latin-1' )\n",
    "    lista_df.append(df)\n",
    "df_vendas = pd.concat(lista_df)"
   ]
  },
  {
   "cell_type": "code",
   "execution_count": 8,
   "id": "dd8bd1fb",
   "metadata": {},
   "outputs": [
    {
     "data": {
      "text/html": [
       "<div>\n",
       "<style scoped>\n",
       "    .dataframe tbody tr th:only-of-type {\n",
       "        vertical-align: middle;\n",
       "    }\n",
       "\n",
       "    .dataframe tbody tr th {\n",
       "        vertical-align: top;\n",
       "    }\n",
       "\n",
       "    .dataframe thead th {\n",
       "        text-align: right;\n",
       "    }\n",
       "</style>\n",
       "<table border=\"1\" class=\"dataframe\">\n",
       "  <thead>\n",
       "    <tr style=\"text-align: right;\">\n",
       "      <th></th>\n",
       "      <th>cod_pessoa</th>\n",
       "      <th>data_coleta</th>\n",
       "      <th>genero</th>\n",
       "      <th>data_nascimento</th>\n",
       "      <th>animal_estimacao</th>\n",
       "      <th>clima</th>\n",
       "      <th>bebida_favorita</th>\n",
       "      <th>hobbies</th>\n",
       "    </tr>\n",
       "  </thead>\n",
       "  <tbody>\n",
       "    <tr>\n",
       "      <th>0</th>\n",
       "      <td>10141743</td>\n",
       "      <td>2020-01-01</td>\n",
       "      <td>Masculino</td>\n",
       "      <td>1981-04-25</td>\n",
       "      <td>peixe</td>\n",
       "      <td>frio</td>\n",
       "      <td>Cerveja</td>\n",
       "      <td>Praticar esporte</td>\n",
       "    </tr>\n",
       "    <tr>\n",
       "      <th>1</th>\n",
       "      <td>10141860</td>\n",
       "      <td>2020-01-01</td>\n",
       "      <td>Feminino</td>\n",
       "      <td>1966-01-19</td>\n",
       "      <td>peixe</td>\n",
       "      <td>quente</td>\n",
       "      <td>Café</td>\n",
       "      <td>Assistir TV</td>\n",
       "    </tr>\n",
       "    <tr>\n",
       "      <th>2</th>\n",
       "      <td>10142548</td>\n",
       "      <td>2020-01-01</td>\n",
       "      <td>Masculino</td>\n",
       "      <td>1973-08-02</td>\n",
       "      <td>tartaruga</td>\n",
       "      <td>frio</td>\n",
       "      <td>Café</td>\n",
       "      <td>Ler livros</td>\n",
       "    </tr>\n",
       "    <tr>\n",
       "      <th>3</th>\n",
       "      <td>10142591</td>\n",
       "      <td>2020-01-01</td>\n",
       "      <td>Masculino</td>\n",
       "      <td>1997-03-05</td>\n",
       "      <td>gato</td>\n",
       "      <td>moderado</td>\n",
       "      <td>Cerveja</td>\n",
       "      <td>Aprender algo novo</td>\n",
       "    </tr>\n",
       "    <tr>\n",
       "      <th>4</th>\n",
       "      <td>10142654</td>\n",
       "      <td>2020-01-01</td>\n",
       "      <td>Feminino</td>\n",
       "      <td>1969-08-05</td>\n",
       "      <td>tartaruga</td>\n",
       "      <td>moderado</td>\n",
       "      <td>Café</td>\n",
       "      <td>Assistir TV</td>\n",
       "    </tr>\n",
       "    <tr>\n",
       "      <th>0</th>\n",
       "      <td>10141523</td>\n",
       "      <td>2020-01-02</td>\n",
       "      <td>Feminino</td>\n",
       "      <td>1998-09-24</td>\n",
       "      <td>gato</td>\n",
       "      <td>quente</td>\n",
       "      <td>Cerveja</td>\n",
       "      <td>Aprender algo novo</td>\n",
       "    </tr>\n",
       "    <tr>\n",
       "      <th>1</th>\n",
       "      <td>10141996</td>\n",
       "      <td>2020-01-02</td>\n",
       "      <td>Feminino</td>\n",
       "      <td>1973-03-13</td>\n",
       "      <td>tartaruga</td>\n",
       "      <td>quente</td>\n",
       "      <td>refrigerante</td>\n",
       "      <td>Escrever</td>\n",
       "    </tr>\n",
       "    <tr>\n",
       "      <th>2</th>\n",
       "      <td>10142089</td>\n",
       "      <td>2020-01-02</td>\n",
       "      <td>Feminino</td>\n",
       "      <td>1970-03-23</td>\n",
       "      <td>gato</td>\n",
       "      <td>moderado</td>\n",
       "      <td>Água</td>\n",
       "      <td>Pintar quadros</td>\n",
       "    </tr>\n",
       "    <tr>\n",
       "      <th>3</th>\n",
       "      <td>10142145</td>\n",
       "      <td>2020-01-02</td>\n",
       "      <td>Masculino</td>\n",
       "      <td>1998-08-01</td>\n",
       "      <td>peixe</td>\n",
       "      <td>frio</td>\n",
       "      <td>refrigerante</td>\n",
       "      <td>Escrever</td>\n",
       "    </tr>\n",
       "    <tr>\n",
       "      <th>4</th>\n",
       "      <td>10142520</td>\n",
       "      <td>2020-01-02</td>\n",
       "      <td>Masculino</td>\n",
       "      <td>1994-05-09</td>\n",
       "      <td>peixe</td>\n",
       "      <td>moderado</td>\n",
       "      <td>Café</td>\n",
       "      <td>Praticar esporte</td>\n",
       "    </tr>\n",
       "  </tbody>\n",
       "</table>\n",
       "</div>"
      ],
      "text/plain": [
       "   cod_pessoa data_coleta     genero data_nascimento animal_estimacao  \\\n",
       "0    10141743  2020-01-01  Masculino      1981-04-25            peixe   \n",
       "1    10141860  2020-01-01   Feminino      1966-01-19            peixe   \n",
       "2    10142548  2020-01-01  Masculino      1973-08-02        tartaruga   \n",
       "3    10142591  2020-01-01  Masculino      1997-03-05             gato   \n",
       "4    10142654  2020-01-01   Feminino      1969-08-05        tartaruga   \n",
       "0    10141523  2020-01-02   Feminino      1998-09-24             gato   \n",
       "1    10141996  2020-01-02   Feminino      1973-03-13        tartaruga   \n",
       "2    10142089  2020-01-02   Feminino      1970-03-23             gato   \n",
       "3    10142145  2020-01-02  Masculino      1998-08-01            peixe   \n",
       "4    10142520  2020-01-02  Masculino      1994-05-09            peixe   \n",
       "\n",
       "      clima bebida_favorita             hobbies  \n",
       "0      frio         Cerveja    Praticar esporte  \n",
       "1    quente            Café         Assistir TV  \n",
       "2      frio            Café          Ler livros  \n",
       "3  moderado         Cerveja  Aprender algo novo  \n",
       "4  moderado            Café         Assistir TV  \n",
       "0    quente         Cerveja  Aprender algo novo  \n",
       "1    quente    refrigerante            Escrever  \n",
       "2  moderado            Água      Pintar quadros  \n",
       "3      frio    refrigerante            Escrever  \n",
       "4  moderado            Café    Praticar esporte  "
      ]
     },
     "execution_count": 8,
     "metadata": {},
     "output_type": "execute_result"
    }
   ],
   "source": [
    "df_vendas[:10]"
   ]
  },
  {
   "cell_type": "markdown",
   "id": "079ab13a",
   "metadata": {},
   "source": [
    "# Exportando para arquivo"
   ]
  },
  {
   "cell_type": "code",
   "execution_count": 10,
   "id": "d61c9a67",
   "metadata": {},
   "outputs": [],
   "source": [
    "df_vendas.to_csv('unico_arquivo.csv', sep = ';', encoding='latin-1', index=False)"
   ]
  },
  {
   "cell_type": "code",
   "execution_count": 72,
   "id": "2595d5ee",
   "metadata": {},
   "outputs": [
    {
     "name": "stdout",
     "output_type": "stream",
     "text": [
      "   cod_animal_estimacao     animal\n",
      "0                     1      peixe\n",
      "1                     2  tartaruga\n",
      "2                     3       gato\n",
      "3                     4   cachorro\n"
     ]
    },
    {
     "name": "stderr",
     "output_type": "stream",
     "text": [
      "c:\\users\\brito\\documents\\igti\\bootcamp - engenharia de dados\\modulo2\\projetos\\env\\trabalho_pratico\\lib\\site-packages\\pandas\\io\\sql.py:761: UserWarning: pandas only support SQLAlchemy connectable(engine/connection) ordatabase string URI or sqlite3 DBAPI2 connectionother DBAPI2 objects are not tested, please consider using SQLAlchemy\n",
      "  warnings.warn(\n"
     ]
    }
   ],
   "source": [
    "sql = \"SELECT * FROM `animal_estimacao`\"\n",
    "animais = pd.read_sql(sql, conn)\n",
    "print(animais)"
   ]
  },
  {
   "cell_type": "code",
   "execution_count": 19,
   "id": "339fba12",
   "metadata": {},
   "outputs": [
    {
     "name": "stdout",
     "output_type": "stream",
     "text": [
      "                  bebida\n",
      "cod_bebida              \n",
      "1                Cerveja\n",
      "2                   Café\n",
      "3           refrigerante\n",
      "4                   Água\n",
      "5                  Vinho\n",
      "6                    Chá\n"
     ]
    },
    {
     "name": "stderr",
     "output_type": "stream",
     "text": [
      "c:\\users\\brito\\documents\\igti\\bootcamp - engenharia de dados\\modulo2\\projetos\\env\\trabalho_pratico\\lib\\site-packages\\pandas\\io\\sql.py:761: UserWarning: pandas only support SQLAlchemy connectable(engine/connection) ordatabase string URI or sqlite3 DBAPI2 connectionother DBAPI2 objects are not tested, please consider using SQLAlchemy\n",
      "  warnings.warn(\n"
     ]
    }
   ],
   "source": [
    "sql = \"SELECT * FROM `bebida`\"\n",
    "bebidas = pd.read_sql(sql, conn)\n",
    "print(bebidas)"
   ]
  },
  {
   "cell_type": "code",
   "execution_count": 73,
   "id": "82241591",
   "metadata": {},
   "outputs": [
    {
     "name": "stdout",
     "output_type": "stream",
     "text": [
      "   cod_clima     clima\n",
      "0          1      frio\n",
      "1          2    quente\n",
      "2          3  moderado\n"
     ]
    },
    {
     "name": "stderr",
     "output_type": "stream",
     "text": [
      "c:\\users\\brito\\documents\\igti\\bootcamp - engenharia de dados\\modulo2\\projetos\\env\\trabalho_pratico\\lib\\site-packages\\pandas\\io\\sql.py:761: UserWarning: pandas only support SQLAlchemy connectable(engine/connection) ordatabase string URI or sqlite3 DBAPI2 connectionother DBAPI2 objects are not tested, please consider using SQLAlchemy\n",
      "  warnings.warn(\n"
     ]
    }
   ],
   "source": [
    "sql = \"SELECT * FROM `clima`\"\n",
    "climas = pd.read_sql(sql, conn)\n",
    "print(climas)"
   ]
  },
  {
   "cell_type": "code",
   "execution_count": 69,
   "id": "44026198",
   "metadata": {},
   "outputs": [
    {
     "name": "stderr",
     "output_type": "stream",
     "text": [
      "c:\\users\\brito\\documents\\igti\\bootcamp - engenharia de dados\\modulo2\\projetos\\env\\trabalho_pratico\\lib\\site-packages\\pandas\\io\\sql.py:761: UserWarning: pandas only support SQLAlchemy connectable(engine/connection) ordatabase string URI or sqlite3 DBAPI2 connectionother DBAPI2 objects are not tested, please consider using SQLAlchemy\n",
      "  warnings.warn(\n"
     ]
    },
    {
     "data": {
      "text/html": [
       "<div>\n",
       "<style scoped>\n",
       "    .dataframe tbody tr th:only-of-type {\n",
       "        vertical-align: middle;\n",
       "    }\n",
       "\n",
       "    .dataframe tbody tr th {\n",
       "        vertical-align: top;\n",
       "    }\n",
       "\n",
       "    .dataframe thead th {\n",
       "        text-align: right;\n",
       "    }\n",
       "</style>\n",
       "<table border=\"1\" class=\"dataframe\">\n",
       "  <thead>\n",
       "    <tr style=\"text-align: right;\">\n",
       "      <th></th>\n",
       "      <th>cod_hobbie</th>\n",
       "      <th>hobbie</th>\n",
       "    </tr>\n",
       "  </thead>\n",
       "  <tbody>\n",
       "    <tr>\n",
       "      <th>0</th>\n",
       "      <td>1</td>\n",
       "      <td>Praticar esporte</td>\n",
       "    </tr>\n",
       "    <tr>\n",
       "      <th>1</th>\n",
       "      <td>2</td>\n",
       "      <td>Assistir TV</td>\n",
       "    </tr>\n",
       "    <tr>\n",
       "      <th>2</th>\n",
       "      <td>3</td>\n",
       "      <td>Ler livros</td>\n",
       "    </tr>\n",
       "    <tr>\n",
       "      <th>3</th>\n",
       "      <td>4</td>\n",
       "      <td>Aprender algo novo</td>\n",
       "    </tr>\n",
       "    <tr>\n",
       "      <th>4</th>\n",
       "      <td>5</td>\n",
       "      <td>Escrever</td>\n",
       "    </tr>\n",
       "    <tr>\n",
       "      <th>5</th>\n",
       "      <td>6</td>\n",
       "      <td>Pintar quadros</td>\n",
       "    </tr>\n",
       "    <tr>\n",
       "      <th>6</th>\n",
       "      <td>7</td>\n",
       "      <td>Dormir</td>\n",
       "    </tr>\n",
       "    <tr>\n",
       "      <th>7</th>\n",
       "      <td>8</td>\n",
       "      <td>Escutar música</td>\n",
       "    </tr>\n",
       "  </tbody>\n",
       "</table>\n",
       "</div>"
      ],
      "text/plain": [
       "   cod_hobbie              hobbie\n",
       "0           1    Praticar esporte\n",
       "1           2         Assistir TV\n",
       "2           3          Ler livros\n",
       "3           4  Aprender algo novo\n",
       "4           5            Escrever\n",
       "5           6      Pintar quadros\n",
       "6           7              Dormir\n",
       "7           8      Escutar música"
      ]
     },
     "execution_count": 69,
     "metadata": {},
     "output_type": "execute_result"
    }
   ],
   "source": [
    "sql = \"SELECT * FROM `hobbie`\"\n",
    "hobbies = pd.read_sql(sql, conn)\n",
    "hobbies"
   ]
  },
  {
   "cell_type": "code",
   "execution_count": 74,
   "id": "4cbe588f",
   "metadata": {},
   "outputs": [
    {
     "name": "stdout",
     "output_type": "stream",
     "text": [
      "   cod_pessoa     genero data_nascimento\n",
      "0    10141501   Feminino      1984-05-22\n",
      "1    10141502  Masculino      1998-06-27\n",
      "2    10141503  Masculino      1963-02-18\n",
      "3    10141504  Masculino      1979-09-09\n",
      "4    10141505  Masculino      1958-10-04\n",
      "5    10141506  Masculino      1982-12-19\n",
      "6    10141507  Masculino      1961-05-22\n",
      "7    10141508  Masculino      1957-09-23\n",
      "8    10141509  Masculino      1979-09-24\n",
      "9    10141510  Masculino      1978-11-29\n"
     ]
    },
    {
     "name": "stderr",
     "output_type": "stream",
     "text": [
      "c:\\users\\brito\\documents\\igti\\bootcamp - engenharia de dados\\modulo2\\projetos\\env\\trabalho_pratico\\lib\\site-packages\\pandas\\io\\sql.py:761: UserWarning: pandas only support SQLAlchemy connectable(engine/connection) ordatabase string URI or sqlite3 DBAPI2 connectionother DBAPI2 objects are not tested, please consider using SQLAlchemy\n",
      "  warnings.warn(\n"
     ]
    }
   ],
   "source": [
    "sql = \"SELECT * FROM `pessoa`\"\n",
    "dfpessoa = pd.read_sql(sql, conn)\n",
    "print(dfpessoa[:10])"
   ]
  },
  {
   "cell_type": "code",
   "execution_count": 71,
   "id": "c68cbdcd",
   "metadata": {},
   "outputs": [
    {
     "data": {
      "text/plain": [
       "{'Praticar esporte': 1,\n",
       " 'Assistir TV': 2,\n",
       " 'Ler livros': 3,\n",
       " 'Aprender algo novo': 4,\n",
       " 'Escrever': 5,\n",
       " 'Pintar quadros': 6,\n",
       " 'Dormir': 7,\n",
       " 'Escutar música': 8}"
      ]
     },
     "execution_count": 71,
     "metadata": {},
     "output_type": "execute_result"
    }
   ],
   "source": [
    "coleta = dataframe\n",
    "\n",
    "dict_hobbie = hobbies.set_index(hobbies.hobbie)['cod_hobbie'].to_dict()\n",
    "dict_hobbie"
   ]
  },
  {
   "cell_type": "code",
   "execution_count": null,
   "id": "c06c7cb9",
   "metadata": {},
   "outputs": [],
   "source": []
  }
 ],
 "metadata": {
  "kernelspec": {
   "display_name": "trabalho_pratico",
   "language": "python",
   "name": "trabalho_pratico"
  },
  "language_info": {
   "codemirror_mode": {
    "name": "ipython",
    "version": 3
   },
   "file_extension": ".py",
   "mimetype": "text/x-python",
   "name": "python",
   "nbconvert_exporter": "python",
   "pygments_lexer": "ipython3",
   "version": "3.9.0"
  }
 },
 "nbformat": 4,
 "nbformat_minor": 5
}
